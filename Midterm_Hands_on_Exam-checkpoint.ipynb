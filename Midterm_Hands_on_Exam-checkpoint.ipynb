{
 "cells": [
  {
   "cell_type": "code",
   "execution_count": null,
   "id": "516e52a1-cd9e-4642-a88c-4c4fe0ffeaff",
   "metadata": {},
   "outputs": [],
   "source": []
  },
  {
   "cell_type": "markdown",
   "id": "f9e79088-6496-403e-806f-e89f28f309b4",
   "metadata": {},
   "source": [
    "<h1>Import Libraries </h1>"
   ]
  },
  {
   "cell_type": "code",
   "execution_count": 5,
   "id": "a262b885-35e6-4155-8bb5-820276f1d8ab",
   "metadata": {},
   "outputs": [
    {
     "name": "stdout",
     "output_type": "stream",
     "text": [
      "The history saving thread hit an unexpected error (OperationalError('attempt to write a readonly database')).History will not be written to the database.\n"
     ]
    },
    {
     "ename": "ModuleNotFoundError",
     "evalue": "No module named 'numpy'",
     "output_type": "error",
     "traceback": [
      "\u001b[31m---------------------------------------------------------------------------\u001b[39m",
      "\u001b[31mModuleNotFoundError\u001b[39m                       Traceback (most recent call last)",
      "\u001b[36mCell\u001b[39m\u001b[36m \u001b[39m\u001b[32mIn[5]\u001b[39m\u001b[32m, line 1\u001b[39m\n\u001b[32m----> \u001b[39m\u001b[32m1\u001b[39m \u001b[38;5;28;01mimport\u001b[39;00m\u001b[38;5;250m \u001b[39m\u001b[34;01mnumpy\u001b[39;00m\u001b[38;5;250m \u001b[39m\u001b[38;5;28;01mas\u001b[39;00m\u001b[38;5;250m \u001b[39m\u001b[34;01mnp\u001b[39;00m\n\u001b[32m      2\u001b[39m \u001b[38;5;28;01mimport\u001b[39;00m\u001b[38;5;250m \u001b[39m\u001b[34;01mpandas\u001b[39;00m\u001b[38;5;250m \u001b[39m\u001b[38;5;28;01mas\u001b[39;00m\u001b[38;5;250m \u001b[39m\u001b[34;01mpd\u001b[39;00m\n\u001b[32m      3\u001b[39m \u001b[38;5;28;01mimport\u001b[39;00m\u001b[38;5;250m \u001b[39m\u001b[34;01mwarnings\u001b[39;00m\n",
      "\u001b[31mModuleNotFoundError\u001b[39m: No module named 'numpy'"
     ]
    }
   ],
   "source": [
    "import numpy as np\n",
    "import pandas as pd\n",
    "import warnings\n",
    "warnings.filterwarning('ignore')\n",
    "from scipy.stats import f_oneway\n",
    "import seaborn as sns\n",
    "import folium\n",
    "from folium.plugins import HeatMap\n",
    "import matplotlib.pyplot as plt"
   ]
  },
  {
   "cell_type": "markdown",
   "id": "0332674e-6eff-42e4-b6ef-5730edc81901",
   "metadata": {},
   "source": [
    "<h1>Load Dataset into DataFrame</h1>"
   ]
  },
  {
   "cell_type": "code",
   "execution_count": null,
   "id": "1405fe27-a373-4261-b569-fa7a09e491af",
   "metadata": {},
   "outputs": [],
   "source": [
    "DataFrame = pd.read_csv('datasets\\\\Chicago_Crimes.csv')"
   ]
  },
  {
   "cell_type": "code",
   "execution_count": null,
   "id": "d7088bec-5f78-4efe-9f73-6c9d3c4a9aef",
   "metadata": {},
   "outputs": [],
   "source": [
    "DataFrame"
   ]
  },
  {
   "cell_type": "markdown",
   "id": "d69f3683-4448-4599-95f8-6e996f1714da",
   "metadata": {},
   "source": [
    "<h1>Check DataFrame Information</h1>"
   ]
  },
  {
   "cell_type": "code",
   "execution_count": null,
   "id": "7d2c8a0f-ba06-44a4-8aab-f601eefc98b5",
   "metadata": {},
   "outputs": [],
   "source": [
    "DataFrame.info()"
   ]
  },
  {
   "cell_type": "markdown",
   "id": "608c484b-4d8f-458d-bea6-3ca80a75903b",
   "metadata": {},
   "source": [
    "<h1>Basic Descriptive Statistic</h1>"
   ]
  },
  {
   "cell_type": "code",
   "execution_count": null,
   "id": "ce26eb9d-76ff-4268-a71e-d53e6be82318",
   "metadata": {},
   "outputs": [],
   "source": [
    "DataFrame.describe()"
   ]
  },
  {
   "cell_type": "markdown",
   "id": "67d33fa4-61bc-4f80-8bb4-a2a474a9a451",
   "metadata": {},
   "source": [
    "<h1>Check and Fill Null Values</h1>"
   ]
  },
  {
   "cell_type": "code",
   "execution_count": null,
   "id": "024466f4-d52d-4022-bab9-650b7280731b",
   "metadata": {},
   "outputs": [],
   "source": [
    "DataFrame.isnull().sum()"
   ]
  },
  {
   "cell_type": "code",
   "execution_count": null,
   "id": "45b2b06e-bc37-43c9-8d7e-286d8eac5409",
   "metadata": {},
   "outputs": [],
   "source": [
    "DataFrame['Location Description'] = DataFrame['Location Description'].fillna(crime['Location Description'].mode()[0])\n",
    "DataFrame['Community Area'] = DataFrame['Community Area'].fillna(crime['Community Area'].mean())\n",
    "DataFrame['X Coordinate'] = DataFrame['X Coordinate'].fillna(crime['X Coordinate'].mean())\n",
    "DataFrame['Y Coordinate'] = DataFrame['Y Coordinate'].fillna(crime['Y Coordinate'].mean())\n",
    "DataFrame['Latitude'] = DataFrame['Latitude'].fillna(crime['Latitude'].mean())\n",
    "DataFrame['Longitude'] = DataFrame['Longitude'].fillna(crime['Longitude'].mean())\n",
    "DataFrame['Location'] = DataFrame['Location'].fillna(crime['Location'].mode()[0])"
   ]
  },
  {
   "cell_type": "code",
   "execution_count": null,
   "id": "0f998be9-c079-43e1-b610-bb97015fff52",
   "metadata": {},
   "outputs": [],
   "source": [
    "DataFrame.isnull().sum()"
   ]
  },
  {
   "cell_type": "markdown",
   "id": "e6729dbc-9902-4687-bb60-c2a461895fb4",
   "metadata": {},
   "source": [
    "<h1>Categorical Data</h1>"
   ]
  },
  {
   "cell_type": "code",
   "execution_count": null,
   "id": "f62e9f8b-4948-4859-b411-e25b47083f87",
   "metadata": {},
   "outputs": [],
   "source": [
    "DataFrame.dtypes"
   ]
  },
  {
   "cell_type": "code",
   "execution_count": null,
   "id": "81e635b8-ae47-47d7-9391-4c5e42204bc3",
   "metadata": {},
   "outputs": [],
   "source": [
    "DataFrame['Case Number'] = DataFrame['Case Number'].astype('category')\n",
    "DataFrame['Date'] = DataFrame['Date'].astype('category')\n",
    "DataFrame['Block'] = DataFrame['Block'].astype('category')\n",
    "DataFrame['IUCR'] = DataFrame['IUCR'].astype('category')\n",
    "DataFrame['Primary Type'] = DataFrame['Primary Type'].astype('category')\n",
    "DataFrame['Description'] = DataFrame['Description'].astype('category')\n",
    "DataFrame['Location Description'] = DataFrame['Location Description'].astype('category')\n",
    "DataFrame['FBI Code'] = DataFrame['FBI Code'].astype('category')\n",
    "DataFrame['Updated On'] = DataFrame['Updated On'].astype('category')\n",
    "DataFrame['Location'] = DataFrame['Location'].astype('category')"
   ]
  },
  {
   "cell_type": "markdown",
   "id": "3760b205-db37-4846-bb74-1ffd6a0708a9",
   "metadata": {},
   "source": [
    "<h1>Clearing any Inconsistencies with the Dataset</h1>"
   ]
  },
  {
   "cell_type": "code",
   "execution_count": null,
   "id": "cf14d53c-ccc0-4769-b103-1e88c6c4cb81",
   "metadata": {},
   "outputs": [],
   "source": [
    "DataFrame['Date'] = DataFrame['Date'].str.strip()\n",
    "DataFrame['Date'] = DataFrame['Date'].astype('str')\n",
    "DataFrame['Date'] = DataFrame['Date'].str.replace('/', '-')"
   ]
  },
  {
   "cell_type": "code",
   "execution_count": null,
   "id": "97125694-f435-4870-96b6-5aee1da3e1e7",
   "metadata": {},
   "outputs": [],
   "source": [
    "DataFrame['Date'] = pd.to_datetime(DataFrame['Date'], dayfirst = True, errors = 'coerce')"
   ]
  },
  {
   "cell_type": "code",
   "execution_count": null,
   "id": "a068d8bf-0526-4144-9f4b-cbe46c7fc588",
   "metadata": {},
   "outputs": [],
   "source": [
    "DataFrame['Year'] = DataFrame['Date'].dt.year\n",
    "DataFrame['Month'] = DataFrame['Date'].dt.month\n",
    "DataFrame['Day'] = DataFrame['Date'].dt.day\n",
    "DataFrame['DayOfWeek'] = DataFrame['Date'].dt.dayofweek"
   ]
  },
  {
   "cell_type": "code",
   "execution_count": null,
   "id": "413a2d39-f132-47c1-96bc-1dd3d6bdb7e8",
   "metadata": {},
   "outputs": [],
   "source": [
    "DataFrame.info"
   ]
  },
  {
   "cell_type": "code",
   "execution_count": null,
   "id": "218a6582-c5e0-4bf2-a579-17bc332f5bfe",
   "metadata": {},
   "outputs": [],
   "source": [
    "DataFrame.dtypes"
   ]
  },
  {
   "cell_type": "markdown",
   "id": "fa6fed87-9d10-49d2-8e2a-8a6d6a76606f",
   "metadata": {},
   "source": [
    "<h1>•Chicago's Crime Analysis•</h1>"
   ]
  },
  {
   "cell_type": "markdown",
   "id": "4fafa15e-684f-427d-890d-9dcc3954094d",
   "metadata": {},
   "source": [
    "<hr>\n",
    "<h2>•Top Crimes in Chicago</h2>\n",
    "<hr>"
   ]
  },
  {
   "cell_type": "code",
   "execution_count": null,
   "id": "cf6d2ac3-a108-48e9-b568-1aef6417dafc",
   "metadata": {},
   "outputs": [],
   "source": [
    "top_crime = df['Primary Type'].value_counts().head(5).index\n",
    "DataFrame_top = DataFrame[DataFrame['Primary Type'].isin(top_crime)]\n",
    "crime_top = DataFrame_top.groupby(['YearMonth', 'Primary Type']).size().unstack(fill_value=0)\n",
    "\n",
    "plt.figure(figsize=(12,6))\n",
    "crime_top.plot(ax=plt.gca(), linewidth=2)\n",
    "plt.title('Top Crimes in Chicago Over Time', fontsize=16)\n",
    "plt.xlabel('Year-Month', fontsize=12)\n",
    "plt.ylabel('Number of Crimes', fontsize=12)\n",
    "plt.legend(title='Crime Type')\n",
    "plt.grid(True, linestyle='--', alpha=0.5)\n",
    "plt.show()\n"
   ]
  },
  {
   "cell_type": "markdown",
   "id": "50e10d69-6e6d-4009-aff4-64b830bd66d5",
   "metadata": {},
   "source": [
    "<hr>\n",
    "<hr>\n",
    "<h3>Insights(1-5):</h3>\n",
    "<h4>1. Theft is consistently the highest-reported crime over time.<h4>\n",
    "<h4>2. Battery shows a stable but slightly increasing trend in recent years.\n",
    "<h4>3. Criminal Damage experiences occasional sharp peaks.\n",
    "<h4>4. Narcotics-related crimes decline after certain periods, indicating policy effects.\n",
    "<h4>5. Assault remains relatively steady, showing consistent occurrence across time.\n",
    "<hr>\n",
    "<hr>"
   ]
  },
  {
   "cell_type": "markdown",
   "id": "f1f2ebb8-1831-4cb1-ac80-a416960e0ef4",
   "metadata": {},
   "source": [
    "<hr>\n",
    "<h2>•Top Locations have Crimes</h2>\n",
    "<hr>"
   ]
  },
  {
   "cell_type": "code",
   "execution_count": null,
   "id": "a1733f76-96af-4b96-90f2-e20bbd833263",
   "metadata": {},
   "outputs": [],
   "source": [
    "top_locations = DataFrame['Location Description'].value_counts().head(10)\n",
    "\n",
    "plt.figure(figsize=(10,6))\n",
    "top_locations.plot(kind='bar', color='skyblue')\n",
    "plt.title('Top Locations in Chicago have Crimes', fontsize=16)\n",
    "plt.xlabel('Location', fontsize=12)\n",
    "plt.ylabel('Number of Crimes', fontsize=12)\n",
    "plt.xticks(rotation=45, ha='right')\n",
    "plt.show()"
   ]
  },
  {
   "cell_type": "markdown",
   "id": "331e5dfd-204a-4e2e-bea3-b8e1df1528f8",
   "metadata": {},
   "source": [
    "<hr> <hr> <h3> Insights (6-10): </h3> <h4>6. Streets are the most frequent locations for crimes in Chicago.</h4> <h4>7. Residential areas rank second, showing many crimes occur within neighborhoods.</h4> <h4>8. Commercial spots like stores and gas stations have notable crime incidents.</h4> <h4>9. Public transportation areas also appear as common crime locations.</h4> <h4>10. Overall, open and accessible places have higher crime concentrations.</h4> <hr> <hr>"
   ]
  },
  {
   "cell_type": "markdown",
   "id": "ce89ee51-8f82-4273-a870-4ab2b3aa7310",
   "metadata": {},
   "source": [
    "<hr>\n",
    "<h2>•Top Crimes in Different Areas</h2>\n",
    "<hr>"
   ]
  },
  {
   "cell_type": "code",
   "execution_count": null,
   "id": "55be50b8-dfb0-46e5-92bb-ee498722a1ef",
   "metadata": {},
   "outputs": [],
   "source": [
    "\n",
    "top_areas = DataFrame['Community Area'].value_counts()\n",
    "\n",
    "plt.figure(figsize=(10,6))\n",
    "top_areas.plot(kind='bar', color='cornflowerblue')\n",
    "plt.title('Top Community Areas with the Most Crimes in Chicago', fontsize=16)\n",
    "plt.xlabel('Community Area', fontsize=12)\n",
    "plt.ylabel('Number of Crimes', fontsize=12)\n",
    "plt.xticks(rotation=45, ha='right')\n",
    "plt.show()\n"
   ]
  },
  {
   "cell_type": "markdown",
   "id": "790a1b92-1cd7-45d8-92f5-c3471fd4d233",
   "metadata": {},
   "source": [
    "<hr> <hr> <h3> Insights (11-15): </h3> <h4>11. Certain community areas consistently record higher crime counts than others.</h4> <h4>12. The most affected communities may need targeted crime prevention programs.</h4> <h4>13. Urban or densely populated areas show higher incidents compared to suburban zones.</h4> <h4>14. Crime distribution is uneven, revealing social and economic disparities across communities.</h4> <h4>15. These insights can help allocate police presence and community resources more efficiently.</h4> <hr> <hr>"
   ]
  },
  {
   "cell_type": "markdown",
   "id": "330de9a0-c86d-436f-9c4a-749db2fad151",
   "metadata": {},
   "source": [
    "<hr>\n",
    "<h2>•Crimes By Year</h2>\n",
    "<hr>"
   ]
  },
  {
   "cell_type": "code",
   "execution_count": null,
   "id": "d3dc7d68-374f-4d53-bc72-699415c12ef3",
   "metadata": {},
   "outputs": [],
   "source": [
    "crime_year = DataFrame['Year'].value_counts().sort_index()\n",
    "\n",
    "plt.figure(figsize=(10,6))\n",
    "crime_year.plot(kind='bar', color='goldenrod')\n",
    "plt.title('Total Crimes per Year', fontsize=16)\n",
    "plt.xlabel('Year', fontsize=12)\n",
    "plt.ylabel('Number of Crimes', fontsize=12)\n",
    "plt.show()\n"
   ]
  },
  {
   "cell_type": "markdown",
   "id": "c7be6f06-927c-4f0e-8ba1-f4ca4ce22f5d",
   "metadata": {},
   "source": [
    "<hr><hr> <h3> Insights (16-20): </h3> <h4>16. Crime levels fluctuate over the years with visible peaks and drops.</h4> <h4>17. Certain years show significant decreases, possibly due to policy changes or law enforcement focus.</h4> <h4>18. The general pattern helps identify long-term safety trends in Chicago.</h4> <h4>19. The data might reveal impacts of economic or social factors on crime rates.</h4> <h4>20. Tracking annual crime trends supports data-driven policing strategies.</h4> <hr><hr>"
   ]
  },
  {
   "cell_type": "markdown",
   "id": "15a056ee-36f5-465c-a92a-661dfdf19da7",
   "metadata": {},
   "source": [
    "<hr>\n",
    "<h2>•Domestic vs Non-Domestic Crimes</h2>\n",
    "<hr>"
   ]
  },
  {
   "cell_type": "code",
   "execution_count": null,
   "id": "e6860fa2-ec64-42ef-8b39-d138395c0075",
   "metadata": {},
   "outputs": [],
   "source": [
    "domestic_counts = df['Domestic'].value_counts()\n",
    "plt.figure(figsize=(6,6))\n",
    "domestic_counts.plot(kind='pie', autopct='%1.1f%%', startangle=90, colors=['lightcoral', 'lightblue'])\n",
    "plt.title('Proportion of Domestic vs Non-Domestic Crimes', fontsize=16)\n",
    "plt.ylabel('')\n",
    "plt.show()\n"
   ]
  },
  {
   "cell_type": "markdown",
   "id": "eedcadeb-57b0-42d5-8873-b852ea9bb671",
   "metadata": {},
   "source": [
    "<hr><hr> <h3> Insights (21-25): </h3> <h4>21. Non-domestic crimes make up the majority of total incidents.</h4> <h4>22. Domestic crimes represent a smaller but critical share, often tied to household violence.</h4> <h4>23. The visualization highlights how much public vs private crime occurs.</h4> <h4>24. Interventions for domestic violence remain essential despite smaller proportions.</h4> <h4>25. The pie chart clearly separates public safety concerns into two social contexts.</h4> <hr><hr>"
   ]
  },
  {
   "cell_type": "markdown",
   "id": "649a883f-e760-4988-aea6-f0eab396ed0d",
   "metadata": {},
   "source": [
    "<hr>\n",
    "<h2>Arrest vs Non-Arrest Crimes</h2>\n",
    "<hr>"
   ]
  },
  {
   "cell_type": "code",
   "execution_count": null,
   "id": "d0215128-23a7-4c6a-945a-f6185977cc79",
   "metadata": {},
   "outputs": [],
   "source": [
    "arrest_counts = df['Arrest'].value_counts()\n",
    "plt.figure(figsize=(6,6))\n",
    "arrest_counts.plot(kind='pie', startangle=90, colors=['mediumseagreen', 'lightgray'])\n",
    "plt.title('Crimes Results in Arresting', fontsize=16)\n",
    "plt.ylabel('')\n",
    "plt.show()\n"
   ]
  },
  {
   "cell_type": "markdown",
   "id": "2fee73ee-3ab2-4322-9f27-24d9f1426fc6",
   "metadata": {},
   "source": [
    "<hr><hr> <h3> Insights (26-30): </h3> <h4>26. Most crimes do not result in arrests, showing gaps in resolution or evidence.</h4> <h4>27. A smaller portion leads to arrests, indicating law enforcement response efficiency.</h4> <h4>28. Comparing these proportions over time can reveal justice system improvements.</h4> <h4>29. Some crime types may have much higher arrest rates than others.</h4> <h4>30. The imbalance suggests a need for enhanced investigative strategies.</h4> <hr><hr>"
   ]
  },
  {
   "cell_type": "markdown",
   "id": "b8635b9e-197e-4432-b54f-6f76602222c9",
   "metadata": {},
   "source": [
    "<hr>\n",
    "<h2>•Top Police Districts have Most Crimes</h2>\n",
    "<hr>"
   ]
  },
  {
   "cell_type": "code",
   "execution_count": null,
   "id": "543763b9-8954-45c4-83d0-3d96cbaabcbf",
   "metadata": {},
   "outputs": [],
   "source": [
    "top_districts = df['District'].value_counts().head(10)\n",
    "\n",
    "plt.figure(figsize=(10,6))\n",
    "top_districts.plot(kind='bar', color='slateblue')\n",
    "plt.title('Top Police Districts with Most Crimes', fontsize=16)\n",
    "plt.xlabel('Police District', fontsize=12)\n",
    "plt.ylabel('Number of Crimes', fontsize=12)\n",
    "plt.xticks(rotation=45, ha='right')\n",
    "plt.tight_layout()\n",
    "plt.show()\n"
   ]
  },
  {
   "cell_type": "markdown",
   "id": "9650a02f-644d-4ffa-9f67-8b2701dfdf5f",
   "metadata": {},
   "source": [
    "<hr><hr> <h3> Insights (31-35): </h3> <h4>31. Certain police districts consistently handle a larger share of total crime incidents.</h4> <h4>32. Higher-crime districts may correspond to denser or more urbanized neighborhoods.</h4> <h4>33. The imbalance in district crime counts reveals areas needing increased patrol presence.</h4> <h4>34. Lower-ranked districts show comparatively better safety or smaller population sizes.</h4> <h4>35. These insights support data-driven allocation of police resources across Chicago.</h4> <hr><hr>"
   ]
  },
  {
   "cell_type": "code",
   "execution_count": null,
   "id": "fcb1f2cd-7646-4810-ac06-02fce2b3345f",
   "metadata": {},
   "outputs": [],
   "source": []
  },
  {
   "cell_type": "code",
   "execution_count": null,
   "id": "bf63b0d4-53b9-43da-a1dc-d59f8ca42b15",
   "metadata": {},
   "outputs": [],
   "source": []
  }
 ],
 "metadata": {
  "kernelspec": {
   "display_name": "Python 3 (ipykernel)",
   "language": "python",
   "name": "python3"
  },
  "language_info": {
   "codemirror_mode": {
    "name": "ipython",
    "version": 3
   },
   "file_extension": ".py",
   "mimetype": "text/x-python",
   "name": "python",
   "nbconvert_exporter": "python",
   "pygments_lexer": "ipython3",
   "version": "3.13.2"
  }
 },
 "nbformat": 4,
 "nbformat_minor": 5
}
