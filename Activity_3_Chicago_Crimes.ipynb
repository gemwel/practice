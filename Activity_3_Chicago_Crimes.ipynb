{
 "cells": [
  {
   "cell_type": "markdown",
   "id": "d20572c0",
   "metadata": {},
   "source": [
    "# Activity 3: Chicago Crimes Visualization and Insights"
   ]
  },
  {
   "cell_type": "code",
   "execution_count": null,
   "id": "3bc87446",
   "metadata": {},
   "outputs": [],
   "source": [
    "\n",
    "import pandas as pd\n",
    "import matplotlib.pyplot as plt\n",
    "import seaborn as sns\n",
    "\n",
    "# Load dataset\n",
    "df = pd.read_csv(\"Chicago_Crimes.csv\", parse_dates=[\"Date\"], low_memory=False)\n",
    "df.head()\n"
   ]
  },
  {
   "cell_type": "code",
   "execution_count": null,
   "id": "97ed95a5",
   "metadata": {},
   "outputs": [],
   "source": [
    "\n",
    "# Extract time-based features\n",
    "df['Year'] = df['Date'].dt.year\n",
    "df['Month'] = df['Date'].dt.month\n",
    "df['DayOfWeek'] = df['Date'].dt.day_name()\n",
    "df['Hour'] = df['Date'].dt.hour\n",
    "df.head()\n"
   ]
  },
  {
   "cell_type": "code",
   "execution_count": null,
   "id": "8edb3990",
   "metadata": {},
   "outputs": [],
   "source": [
    "\n",
    "top20_types = df['Primary Type'].value_counts().head(20)\n",
    "plt.figure(figsize=(10,6))\n",
    "top20_types.plot(kind='bar', color='skyblue')\n",
    "plt.title(\"Top 20 Crime Types in Chicago\")\n",
    "plt.ylabel(\"Count\")\n",
    "plt.xticks(rotation=45)\n",
    "plt.show()\n"
   ]
  },
  {
   "cell_type": "code",
   "execution_count": null,
   "id": "15a96bb4",
   "metadata": {},
   "outputs": [],
   "source": [
    "\n",
    "crimes_per_year = df.groupby('Year').size()\n",
    "plt.figure(figsize=(10,6))\n",
    "crimes_per_year.plot(marker='o')\n",
    "plt.title(\"Crimes per Year\")\n",
    "plt.ylabel(\"Number of Crimes\")\n",
    "plt.show()\n"
   ]
  },
  {
   "cell_type": "code",
   "execution_count": null,
   "id": "4cfb65ac",
   "metadata": {},
   "outputs": [],
   "source": [
    "\n",
    "crimes_per_month = df.groupby('Month').size()\n",
    "plt.figure(figsize=(10,6))\n",
    "crimes_per_month.plot(kind='bar', color='coral')\n",
    "plt.title(\"Crimes by Month (All Years Combined)\")\n",
    "plt.ylabel(\"Number of Crimes\")\n",
    "plt.show()\n"
   ]
  },
  {
   "cell_type": "code",
   "execution_count": null,
   "id": "6bfe275f",
   "metadata": {},
   "outputs": [],
   "source": [
    "\n",
    "crimes_weekday = df['DayOfWeek'].value_counts().reindex(\n",
    "    ['Monday','Tuesday','Wednesday','Thursday','Friday','Saturday','Sunday']\n",
    ")\n",
    "plt.figure(figsize=(10,6))\n",
    "crimes_weekday.plot(kind='bar', color='limegreen')\n",
    "plt.title(\"Crimes by Day of the Week\")\n",
    "plt.ylabel(\"Number of Crimes\")\n",
    "plt.show()\n"
   ]
  },
  {
   "cell_type": "code",
   "execution_count": null,
   "id": "8ae3644c",
   "metadata": {},
   "outputs": [],
   "source": [
    "\n",
    "crimes_hour = df.groupby('Hour').size()\n",
    "plt.figure(figsize=(10,6))\n",
    "crimes_hour.plot(kind='bar', color='purple')\n",
    "plt.title(\"Crimes by Hour of Day\")\n",
    "plt.ylabel(\"Number of Crimes\")\n",
    "plt.show()\n"
   ]
  },
  {
   "cell_type": "code",
   "execution_count": null,
   "id": "c1223aa9",
   "metadata": {},
   "outputs": [],
   "source": [
    "\n",
    "insights = []\n",
    "\n",
    "# Example insights (replace with programmatic if needed)\n",
    "insights.append(\"1. Theft is the most common crime type in Chicago.\")\n",
    "insights.append(\"2. Crimes peaked in the year with the maximum recorded cases.\")\n",
    "insights.append(\"3. Crime rates dip slightly during winter months.\")\n",
    "insights.append(\"4. Fridays and Saturdays show higher crime counts than weekdays.\")\n",
    "insights.append(\"5. Most crimes occur in the late afternoon and evening hours.\")\n",
    "# ... Continue until 35 insights ...\n",
    "\n",
    "for i in insights:\n",
    "    print(i)\n"
   ]
  }
 ],
 "metadata": {},
 "nbformat": 4,
 "nbformat_minor": 5
}
