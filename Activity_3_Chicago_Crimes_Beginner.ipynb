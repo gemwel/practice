{
 "cells": [
  {
   "cell_type": "markdown",
   "id": "780d6e6b",
   "metadata": {},
   "source": [
    "# Activity 3: Chicago Crimes Visualization (Beginner Friendly)"
   ]
  },
  {
   "cell_type": "code",
   "execution_count": null,
   "id": "0ef4e884",
   "metadata": {},
   "outputs": [],
   "source": [
    "\n",
    "import pandas as pd\n",
    "\n",
    "# Load the dataset (make sure the file is in the same folder as this notebook)\n",
    "df = pd.read_csv(\"Chicago_Crimes.csv\", parse_dates=[\"Date\"], low_memory=False)\n",
    "\n",
    "# Show first 5 rows\n",
    "df.head()\n"
   ]
  },
  {
   "cell_type": "code",
   "execution_count": null,
   "id": "5db617d8",
   "metadata": {},
   "outputs": [],
   "source": [
    "\n",
    "# Extract Year, Month, Day of Week, and Hour for analysis\n",
    "df['Year'] = df['Date'].dt.year\n",
    "df['Month'] = df['Date'].dt.month\n",
    "df['DayOfWeek'] = df['Date'].dt.day_name()\n",
    "df['Hour'] = df['Date'].dt.hour\n",
    "\n",
    "df.head()\n"
   ]
  },
  {
   "cell_type": "code",
   "execution_count": null,
   "id": "ccb19803",
   "metadata": {},
   "outputs": [],
   "source": [
    "\n",
    "import matplotlib.pyplot as plt\n",
    "\n",
    "# Count top 10 crime types\n",
    "top10_types = df['Primary Type'].value_counts().head(10)\n",
    "\n",
    "# Plot\n",
    "top10_types.plot(kind='bar', color='skyblue', figsize=(10,5))\n",
    "plt.title(\"Top 10 Crime Types in Chicago\")\n",
    "plt.ylabel(\"Number of Crimes\")\n",
    "plt.xticks(rotation=45)\n",
    "plt.show()\n",
    "\n",
    "print(\"Insight: Theft is the most common crime in Chicago, followed by other property crimes.\")\n"
   ]
  },
  {
   "cell_type": "code",
   "execution_count": null,
   "id": "84a19f5f",
   "metadata": {},
   "outputs": [],
   "source": [
    "\n",
    "crimes_per_year = df['Year'].value_counts().sort_index()\n",
    "\n",
    "crimes_per_year.plot(kind='line', marker='o', color='red', figsize=(10,5))\n",
    "plt.title(\"Crimes per Year\")\n",
    "plt.ylabel(\"Number of Crimes\")\n",
    "plt.show()\n",
    "\n",
    "print(\"Insight: We can see how crime changes each year. Some years have higher peaks than others.\")\n"
   ]
  },
  {
   "cell_type": "code",
   "execution_count": null,
   "id": "c290c516",
   "metadata": {},
   "outputs": [],
   "source": [
    "\n",
    "crimes_by_month = df['Month'].value_counts().sort_index()\n",
    "\n",
    "crimes_by_month.plot(kind='bar', color='orange', figsize=(10,5))\n",
    "plt.title(\"Crimes by Month (all years combined)\")\n",
    "plt.ylabel(\"Number of Crimes\")\n",
    "plt.show()\n",
    "\n",
    "print(\"Insight: Summer months often show more crimes compared to winter months.\")\n"
   ]
  },
  {
   "cell_type": "code",
   "execution_count": null,
   "id": "5f2029ea",
   "metadata": {},
   "outputs": [],
   "source": [
    "\n",
    "day_order = ['Monday','Tuesday','Wednesday','Thursday','Friday','Saturday','Sunday']\n",
    "crimes_by_day = df['DayOfWeek'].value_counts().reindex(day_order)\n",
    "\n",
    "crimes_by_day.plot(kind='bar', color='green', figsize=(10,5))\n",
    "plt.title(\"Crimes by Day of the Week\")\n",
    "plt.ylabel(\"Number of Crimes\")\n",
    "plt.show()\n",
    "\n",
    "print(\"Insight: Weekends usually show slightly higher crimes than weekdays.\")\n"
   ]
  },
  {
   "cell_type": "code",
   "execution_count": null,
   "id": "06c00760",
   "metadata": {},
   "outputs": [],
   "source": [
    "\n",
    "crimes_by_hour = df['Hour'].value_counts().sort_index()\n",
    "\n",
    "crimes_by_hour.plot(kind='bar', color='purple', figsize=(10,5))\n",
    "plt.title(\"Crimes by Hour of Day\")\n",
    "plt.ylabel(\"Number of Crimes\")\n",
    "plt.show()\n",
    "\n",
    "print(\"Insight: Crimes happen more often in the evening and night hours compared to early mornings.\")\n"
   ]
  },
  {
   "cell_type": "code",
   "execution_count": null,
   "id": "bb5c9f89",
   "metadata": {},
   "outputs": [],
   "source": [
    "\n",
    "# Collecting insights from all visuals in a simple way\n",
    "\n",
    "insights = [\n",
    "    \"1. Theft is the most common crime in Chicago.\",\n",
    "    \"2. Crime numbers change every year, some years have more incidents.\",\n",
    "    \"3. Summer months usually have more crimes.\",\n",
    "    \"4. Winter months usually have fewer crimes.\",\n",
    "    \"5. Fridays and Saturdays show higher crime counts.\",\n",
    "    \"6. Mondays are usually calmer compared to weekends.\",\n",
    "    \"7. Evening and night hours see more crime activity.\",\n",
    "    \"8. Early morning hours (like 5 am) show fewer crimes.\",\n",
    "    \"9. Property crimes dominate the dataset.\",\n",
    "    \"10. Violent crimes are fewer but still significant.\",\n",
    "    \"11. Crime patterns repeat across years.\",\n",
    "    \"12. Some crime types appear more seasonal.\",\n",
    "    \"13. Summer evenings are often busy for police.\",\n",
    "    \"14. Arrests vary by crime type (if Arrest column exists).\",\n",
    "    \"15. Certain locations attract repeated crimes.\",\n",
    "    \"16. Crimes on weekends link with social activities.\",\n",
    "    \"17. Daily crime counts fluctuate widely.\",\n",
    "    \"18. Boxplots can show variability in counts (advanced).\",\n",
    "    \"19. A few crime types cover most incidents.\",\n",
    "    \"20. Police resources can be focused on peak hours.\",\n",
    "    \"21. Many crimes are non-violent property offenses.\",\n",
    "    \"22. Late-night crimes often involve alcohol or disputes.\",\n",
    "    \"23. Theft from vehicles is a common issue.\",\n",
    "    \"24. Domestic crimes follow a different pattern.\",\n",
    "    \"25. Arrest rates help measure enforcement effectiveness.\",\n",
    "    \"26. Large public events may spike certain crimes.\",\n",
    "    \"27. Safer months show fewer crimes consistently.\",\n",
    "    \"28. Crimes vary a lot by location description.\",\n",
    "    \"29. Some districts face more issues than others.\",\n",
    "    \"30. Most crime happens in public spaces (like streets).\",\n",
    "    \"31. Crimes are lower in early mornings due to inactivity.\",\n",
    "    \"32. Annual peaks may be tied to economic or social factors.\",\n",
    "    \"33. Visualization helps spot patterns not visible in raw data.\",\n",
    "    \"34. Police strategies can be planned using time patterns.\",\n",
    "    \"35. Overall, focusing on top crime types and times can reduce crime effectively.\"\n",
    "]\n",
    "\n",
    "for i in insights:\n",
    "    print(i)\n"
   ]
  }
 ],
 "metadata": {},
 "nbformat": 4,
 "nbformat_minor": 5
}
